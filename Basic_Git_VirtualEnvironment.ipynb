{
 "cells": [
  {
   "cell_type": "markdown",
   "id": "6ccbc4f3-2995-4db4-bcc1-7143944faa41",
   "metadata": {
    "jp-MarkdownHeadingCollapsed": true
   },
   "source": [
    "## Basic Python for Data Analytics and Data Science\n",
    "### Table of Content\n",
    "- Environment venv vs conda (README.md)\n",
    "- Git (README.md)\n",
    "- Packages and libraries\n",
    "- numpy and polar for df processing\n",
    "- data science concepts\n",
    "    - supervised ML\n",
    "    - unsupervised ML\n",
    "    - data mining concept"
   ]
  },
  {
   "cell_type": "markdown",
   "id": "3ceb2981",
   "metadata": {},
   "source": [
    "### python environment intro\n",
    "Python virtual environment is an isolate space where you can work on your Python projects seperate from the system-installed Python with different packages and libraries.\n"
   ]
  },
  {
   "cell_type": "markdown",
   "id": "685bd9bf",
   "metadata": {},
   "source": [
    "run commands below"
   ]
  },
  {
   "cell_type": "markdown",
   "id": "0b70562c",
   "metadata": {},
   "source": [
    "`python -m venv /path/to/new/virtual/environment`"
   ]
  },
  {
   "cell_type": "markdown",
   "id": "a9871ae2",
   "metadata": {},
   "source": [
    "to activate environment run the follow command"
   ]
  },
  {
   "cell_type": "code",
   "execution_count": null,
   "id": "82ce120e",
   "metadata": {
    "vscode": {
     "languageId": "plaintext"
    }
   },
   "outputs": [],
   "source": []
  }
 ],
 "metadata": {
  "kernelspec": {
   "display_name": "Python 3 (ipykernel)",
   "language": "python",
   "name": "python3"
  },
  "language_info": {
   "codemirror_mode": {
    "name": "ipython",
    "version": 3
   },
   "file_extension": ".py",
   "mimetype": "text/x-python",
   "name": "python",
   "nbconvert_exporter": "python",
   "pygments_lexer": "ipython3",
   "version": "3.11.8"
  }
 },
 "nbformat": 4,
 "nbformat_minor": 5
}
